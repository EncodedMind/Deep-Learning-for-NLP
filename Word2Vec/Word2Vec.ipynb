{
 "cells": [
  {
   "cell_type": "code",
   "execution_count": 1,
   "id": "b0399195",
   "metadata": {
    "_cell_guid": "b1076dfc-b9ad-4769-8c92-a6c4dae69d19",
    "_uuid": "8f2839f25d086af736a60e9eeb907d3b93b6e0e5",
    "execution": {
     "iopub.execute_input": "2025-05-05T09:51:36.415685Z",
     "iopub.status.busy": "2025-05-05T09:51:36.415461Z",
     "iopub.status.idle": "2025-05-05T09:52:14.868468Z",
     "shell.execute_reply": "2025-05-05T09:52:14.867690Z"
    },
    "papermill": {
     "duration": 38.459314,
     "end_time": "2025-05-05T09:52:14.871456",
     "exception": false,
     "start_time": "2025-05-05T09:51:36.412142",
     "status": "completed"
    },
    "tags": []
   },
   "outputs": [
    {
     "data": {
      "text/plain": [
       "True"
      ]
     },
     "execution_count": 1,
     "metadata": {},
     "output_type": "execute_result"
    }
   ],
   "source": [
    "# ========== IMPORTS & SETUP ==========\n",
    "import pandas as pd\n",
    "import numpy as np\n",
    "import torch\n",
    "import torch.nn as nn\n",
    "import torch.nn.functional as F\n",
    "from torch.utils.data import Dataset, DataLoader\n",
    "from gensim.models import KeyedVectors\n",
    "import re\n",
    "import os\n",
    "import nltk\n",
    "from nltk.tokenize import word_tokenize\n",
    "from nltk.corpus import stopwords\n",
    "import optuna\n",
    "from sklearn.metrics import accuracy_score, precision_score, recall_score, f1_score\n",
    "\n",
    "# Initialize NLTK\n",
    "nltk.download('punkt', quiet=True)\n",
    "nltk.download('stopwords', quiet=True)"
   ]
  },
  {
   "cell_type": "code",
   "execution_count": null,
   "id": "a9833a89",
   "metadata": {
    "execution": {
     "iopub.execute_input": "2025-05-05T09:52:14.877024Z",
     "iopub.status.busy": "2025-05-05T09:52:14.876414Z",
     "iopub.status.idle": "2025-05-05T09:52:14.881383Z",
     "shell.execute_reply": "2025-05-05T09:52:14.880734Z"
    },
    "papermill": {
     "duration": 0.008651,
     "end_time": "2025-05-05T09:52:14.882452",
     "exception": false,
     "start_time": "2025-05-05T09:52:14.873801",
     "status": "completed"
    },
    "tags": []
   },
   "outputs": [
    {
     "name": "stdout",
     "output_type": "stream",
     "text": [
      "/kaggle/input/ai-2-dl-for-nlp-2025-homework-2/sample_submission.csv\n",
      "/kaggle/input/ai-2-dl-for-nlp-2025-homework-2/train_dataset.csv\n",
      "/kaggle/input/ai-2-dl-for-nlp-2025-homework-2/test_dataset.csv\n",
      "/kaggle/input/ai-2-dl-for-nlp-2025-homework-2/val_dataset.csv\n"
     ]
    }
   ],
   "source": [
    "# Files checking\n",
    "import os\n",
    "for dirname, _, filenames in os.walk('../input'):\n",
    "    for filename in filenames:\n",
    "        print(os.path.join(dirname, filename))"
   ]
  },
  {
   "cell_type": "code",
   "execution_count": null,
   "id": "4b71e541",
   "metadata": {
    "execution": {
     "iopub.execute_input": "2025-05-05T09:52:14.887457Z",
     "iopub.status.busy": "2025-05-05T09:52:14.887248Z",
     "iopub.status.idle": "2025-05-05T09:52:15.379970Z",
     "shell.execute_reply": "2025-05-05T09:52:15.379344Z"
    },
    "papermill": {
     "duration": 0.496687,
     "end_time": "2025-05-05T09:52:15.381251",
     "exception": false,
     "start_time": "2025-05-05T09:52:14.884564",
     "status": "completed"
    },
    "tags": []
   },
   "outputs": [],
   "source": [
    "# ========== DATA LOADING ==========\n",
    "BASE_PATH = '../input'\n",
    "train_df = pd.read_csv(os.path.join(BASE_PATH, 'train_dataset.csv'))\n",
    "val_df = pd.read_csv(os.path.join(BASE_PATH, 'val_dataset.csv'))\n",
    "test_df = pd.read_csv(os.path.join(BASE_PATH, 'test_dataset.csv'))"
   ]
  },
  {
   "cell_type": "code",
   "execution_count": 4,
   "id": "0549b34e",
   "metadata": {
    "execution": {
     "iopub.execute_input": "2025-05-05T09:52:15.386555Z",
     "iopub.status.busy": "2025-05-05T09:52:15.386324Z",
     "iopub.status.idle": "2025-05-05T09:52:15.389348Z",
     "shell.execute_reply": "2025-05-05T09:52:15.388840Z"
    },
    "papermill": {
     "duration": 0.006829,
     "end_time": "2025-05-05T09:52:15.390455",
     "exception": false,
     "start_time": "2025-05-05T09:52:15.383626",
     "status": "completed"
    },
    "tags": []
   },
   "outputs": [],
   "source": [
    "# ========== CONSTANTS ==========\n",
    "DEFAULT_BATCH_SIZE = 32  # Used for test loader and initial setup"
   ]
  },
  {
   "cell_type": "code",
   "execution_count": 5,
   "id": "b15081f2",
   "metadata": {
    "execution": {
     "iopub.execute_input": "2025-05-05T09:52:15.395528Z",
     "iopub.status.busy": "2025-05-05T09:52:15.395303Z",
     "iopub.status.idle": "2025-05-05T09:53:13.089684Z",
     "shell.execute_reply": "2025-05-05T09:53:13.089120Z"
    },
    "papermill": {
     "duration": 57.698572,
     "end_time": "2025-05-05T09:53:13.091137",
     "exception": false,
     "start_time": "2025-05-05T09:52:15.392565",
     "status": "completed"
    },
    "tags": []
   },
   "outputs": [],
   "source": [
    "# ========== PREPROCESSING ==========\n",
    "stop_words = set(stopwords.words('english'))\n",
    "w2v_model = KeyedVectors.load_word2vec_format(\n",
    "    \"/kaggle/input/google-word2vec/GoogleNews-vectors-negative300.bin\",\n",
    "    binary=True\n",
    ")\n",
    "\n",
    "def preprocess_text(text):\n",
    "    text = re.sub(r\"http\\S+|www\\S+|https\\S+\", \"\", text, flags=re.MULTILINE)\n",
    "    text = re.sub(r\"[^a-zA-Z\\s]\", \"\", text)\n",
    "    tokens = word_tokenize(text.lower())\n",
    "    return [token for token in tokens if token not in stop_words]\n",
    "\n",
    "for df in [train_df, val_df, test_df]:\n",
    "    df['tokens'] = df['Text'].apply(preprocess_text)"
   ]
  },
  {
   "cell_type": "code",
   "execution_count": 6,
   "id": "3b7116fd",
   "metadata": {
    "execution": {
     "iopub.execute_input": "2025-05-05T09:53:13.096636Z",
     "iopub.status.busy": "2025-05-05T09:53:13.096403Z",
     "iopub.status.idle": "2025-05-05T09:53:18.906594Z",
     "shell.execute_reply": "2025-05-05T09:53:18.905511Z"
    },
    "papermill": {
     "duration": 5.814226,
     "end_time": "2025-05-05T09:53:18.907928",
     "exception": false,
     "start_time": "2025-05-05T09:53:13.093702",
     "status": "completed"
    },
    "tags": []
   },
   "outputs": [],
   "source": [
    "# ========== VECTORIZATION ==========\n",
    "def vectorize(tokens_list):\n",
    "    vectors = []\n",
    "    for tokens in tokens_list:\n",
    "        vecs = [w2v_model[token] for token in tokens if token in w2v_model]\n",
    "        vectors.append(np.mean(vecs, axis=0) if vecs else np.zeros(300))\n",
    "    return np.array(vectors)\n",
    "\n",
    "train_vectors = vectorize(train_df['tokens'])\n",
    "val_vectors = vectorize(val_df['tokens'])\n",
    "test_vectors = vectorize(test_df['tokens'])"
   ]
  },
  {
   "cell_type": "code",
   "execution_count": 7,
   "id": "af053b7a",
   "metadata": {
    "execution": {
     "iopub.execute_input": "2025-05-05T09:53:18.913558Z",
     "iopub.status.busy": "2025-05-05T09:53:18.913324Z",
     "iopub.status.idle": "2025-05-05T09:53:18.919604Z",
     "shell.execute_reply": "2025-05-05T09:53:18.919077Z"
    },
    "papermill": {
     "duration": 0.010169,
     "end_time": "2025-05-05T09:53:18.920643",
     "exception": false,
     "start_time": "2025-05-05T09:53:18.910474",
     "status": "completed"
    },
    "tags": []
   },
   "outputs": [],
   "source": [
    "# ========== DATASETS & DATALOADERS ==========\n",
    "class VectorDataset(Dataset):\n",
    "    def __init__(self, vectors, labels=None):\n",
    "        self.vectors = vectors\n",
    "        self.labels = labels\n",
    "\n",
    "    def __len__(self):\n",
    "        return len(self.vectors)\n",
    "\n",
    "    def __getitem__(self, idx):\n",
    "        if self.labels is not None:\n",
    "            return torch.tensor(self.vectors[idx], dtype=torch.float32), \\\n",
    "                   torch.tensor(self.labels[idx], dtype=torch.float32)\n",
    "        return torch.tensor(self.vectors[idx], dtype=torch.float32)\n",
    "\n",
    "# Initialize datasets\n",
    "train_dataset = VectorDataset(train_vectors, train_df['Label'].values)\n",
    "val_dataset = VectorDataset(val_vectors, val_df['Label'].values)\n",
    "test_dataset = VectorDataset(test_vectors)  # No labels\n",
    "\n",
    "# Initialize DEFAULT loaders (before Optuna)\n",
    "train_loader = DataLoader(train_dataset, batch_size=DEFAULT_BATCH_SIZE, shuffle=True)\n",
    "val_loader = DataLoader(val_dataset, batch_size=DEFAULT_BATCH_SIZE)\n",
    "test_loader = DataLoader(test_dataset, batch_size=DEFAULT_BATCH_SIZE)  # Fixed for submission"
   ]
  },
  {
   "cell_type": "code",
   "execution_count": 8,
   "id": "1023da01",
   "metadata": {
    "execution": {
     "iopub.execute_input": "2025-05-05T09:53:18.926154Z",
     "iopub.status.busy": "2025-05-05T09:53:18.925681Z",
     "iopub.status.idle": "2025-05-05T09:53:18.930095Z",
     "shell.execute_reply": "2025-05-05T09:53:18.929577Z"
    },
    "papermill": {
     "duration": 0.008172,
     "end_time": "2025-05-05T09:53:18.931155",
     "exception": false,
     "start_time": "2025-05-05T09:53:18.922983",
     "status": "completed"
    },
    "tags": []
   },
   "outputs": [],
   "source": [
    "# ========== MODEL ARCHITECTURE ==========\n",
    "class SentimentNet(nn.Module):\n",
    "    def __init__(self, input_dim, hidden1=256, hidden2=128, dropout=0.5):\n",
    "        super().__init__()\n",
    "        self.net = nn.Sequential(\n",
    "            nn.Linear(input_dim, hidden1),\n",
    "            nn.BatchNorm1d(hidden1),\n",
    "            nn.ReLU(),\n",
    "            nn.Dropout(dropout),\n",
    "            nn.Linear(hidden1, hidden2),\n",
    "            nn.BatchNorm1d(hidden2),\n",
    "            nn.ReLU(),\n",
    "            nn.Dropout(dropout),\n",
    "            nn.Linear(hidden2, 1)\n",
    "        )\n",
    "        \n",
    "    def forward(self, x):\n",
    "        return self.net(x)"
   ]
  },
  {
   "cell_type": "code",
   "execution_count": 9,
   "id": "f3d0022a",
   "metadata": {
    "execution": {
     "iopub.execute_input": "2025-05-05T09:53:18.936348Z",
     "iopub.status.busy": "2025-05-05T09:53:18.936155Z",
     "iopub.status.idle": "2025-05-05T11:18:51.692114Z",
     "shell.execute_reply": "2025-05-05T11:18:51.691324Z"
    },
    "papermill": {
     "duration": 5132.763271,
     "end_time": "2025-05-05T11:18:51.696555",
     "exception": false,
     "start_time": "2025-05-05T09:53:18.933284",
     "status": "completed"
    },
    "tags": []
   },
   "outputs": [
    {
     "name": "stderr",
     "output_type": "stream",
     "text": [
      "[I 2025-05-05 09:53:18,942] A new study created in memory with name: no-name-1e90f0c0-6a63-400f-bc27-1816267f8d94\n",
      "[I 2025-05-05 09:56:27,839] Trial 0 finished with value: 0.7659787253386672 and parameters: {'lr': 6.717992572586051e-05, 'hidden1': 512, 'hidden2': 128, 'dropout': 0.291077865807791, 'batch_size': 32, 'weight_decay': 5.215535689749298e-05}. Best is trial 0 with value: 0.7659787253386672.\n",
      "[I 2025-05-05 09:58:14,274] Trial 1 finished with value: 0.7493994826311899 and parameters: {'lr': 3.616638715545857e-05, 'hidden1': 128, 'hidden2': 128, 'dropout': 0.49112290944488207, 'batch_size': 128, 'weight_decay': 1.985763403794658e-05}. Best is trial 0 with value: 0.7659787253386672.\n",
      "[I 2025-05-05 10:02:00,229] Trial 2 finished with value: 0.7662561067914402 and parameters: {'lr': 0.00017433981239563378, 'hidden1': 256, 'hidden2': 256, 'dropout': 0.481332733360663, 'batch_size': 32, 'weight_decay': 6.158409598055872e-06}. Best is trial 2 with value: 0.7662561067914402.\n",
      "[I 2025-05-05 10:03:45,332] Trial 3 finished with value: 0.7648584690998452 and parameters: {'lr': 6.835036047879935e-05, 'hidden1': 384, 'hidden2': 64, 'dropout': 0.2731045127839283, 'batch_size': 128, 'weight_decay': 0.0005932579061655773}. Best is trial 2 with value: 0.7662561067914402.\n",
      "[I 2025-05-05 10:08:30,757] Trial 4 finished with value: 0.7628127081849716 and parameters: {'lr': 1.4202989633342053e-05, 'hidden1': 448, 'hidden2': 128, 'dropout': 0.28955956174630015, 'batch_size': 64, 'weight_decay': 2.041243118729745e-05}. Best is trial 2 with value: 0.7662561067914402.\n",
      "[I 2025-05-05 10:11:36,627] Trial 5 finished with value: 0.7695562177285445 and parameters: {'lr': 0.00011180946479141189, 'hidden1': 512, 'hidden2': 128, 'dropout': 0.48064020749973796, 'batch_size': 64, 'weight_decay': 1.626091748920313e-05}. Best is trial 5 with value: 0.7695562177285445.\n",
      "[I 2025-05-05 10:13:38,662] Trial 6 finished with value: 0.7556344195050007 and parameters: {'lr': 1.1834348309940713e-05, 'hidden1': 512, 'hidden2': 256, 'dropout': 0.3077038472478232, 'batch_size': 128, 'weight_decay': 0.0006074476428765317}. Best is trial 5 with value: 0.7695562177285445.\n",
      "[I 2025-05-05 10:15:53,048] Trial 7 finished with value: 0.7613654600059608 and parameters: {'lr': 3.060059320631967e-05, 'hidden1': 512, 'hidden2': 64, 'dropout': 0.22021107291947226, 'batch_size': 64, 'weight_decay': 1.5425893758047249e-06}. Best is trial 5 with value: 0.7695562177285445.\n",
      "[I 2025-05-05 10:17:10,768] Trial 8 finished with value: 0.7520440931969846 and parameters: {'lr': 5.2877473101284774e-05, 'hidden1': 128, 'hidden2': 192, 'dropout': 0.48818367235394, 'batch_size': 128, 'weight_decay': 5.060575086283121e-06}. Best is trial 5 with value: 0.7695562177285445.\n",
      "[I 2025-05-05 10:21:23,847] Trial 9 finished with value: 0.7735500554118951 and parameters: {'lr': 0.00010197787096990408, 'hidden1': 512, 'hidden2': 192, 'dropout': 0.299492134448284, 'batch_size': 32, 'weight_decay': 0.000123627873686519}. Best is trial 9 with value: 0.7735500554118951.\n",
      "[I 2025-05-05 10:23:02,328] Trial 10 finished with value: 0.7626508390250288 and parameters: {'lr': 0.0006775774450983817, 'hidden1': 320, 'hidden2': 192, 'dropout': 0.39747699152926935, 'batch_size': 32, 'weight_decay': 7.863533888548111e-05}. Best is trial 9 with value: 0.7735500554118951.\n",
      "[I 2025-05-05 10:25:15,836] Trial 11 finished with value: 0.7649663315192324 and parameters: {'lr': 0.0001733730761504316, 'hidden1': 384, 'hidden2': 192, 'dropout': 0.3855584870438004, 'batch_size': 64, 'weight_decay': 0.0001224710165776654}. Best is trial 9 with value: 0.7735500554118951.\n",
      "[I 2025-05-05 10:29:56,396] Trial 12 finished with value: 0.7706214187358414 and parameters: {'lr': 0.000205001405013827, 'hidden1': 448, 'hidden2': 128, 'dropout': 0.4218042761717496, 'batch_size': 32, 'weight_decay': 0.0001914402610039781}. Best is trial 9 with value: 0.7735500554118951.\n",
      "[I 2025-05-05 10:33:28,995] Trial 13 finished with value: 0.7699973425458411 and parameters: {'lr': 0.0003848546149629081, 'hidden1': 384, 'hidden2': 192, 'dropout': 0.42504331658092004, 'batch_size': 32, 'weight_decay': 0.00020318215932535078}. Best is trial 9 with value: 0.7735500554118951.\n",
      "[I 2025-05-05 10:36:59,160] Trial 14 finished with value: 0.7655839668279198 and parameters: {'lr': 0.0003171413703607982, 'hidden1': 448, 'hidden2': 64, 'dropout': 0.35662812566329466, 'batch_size': 32, 'weight_decay': 0.00025549843221443254}. Best is trial 9 with value: 0.7735500554118951.\n",
      "[I 2025-05-05 10:41:25,578] Trial 15 finished with value: 0.7677462238419399 and parameters: {'lr': 0.00018694924065008428, 'hidden1': 448, 'hidden2': 256, 'dropout': 0.4319547469361026, 'batch_size': 32, 'weight_decay': 0.00032501693447199405}. Best is trial 9 with value: 0.7735500554118951.\n",
      "[I 2025-05-05 10:45:01,103] Trial 16 finished with value: 0.764649854862119 and parameters: {'lr': 0.0008782188646411322, 'hidden1': 256, 'hidden2': 128, 'dropout': 0.33548082898191733, 'batch_size': 32, 'weight_decay': 5.667781445502368e-05}. Best is trial 9 with value: 0.7735500554118951.\n",
      "[I 2025-05-05 10:47:22,649] Trial 17 finished with value: 0.7664925690973078 and parameters: {'lr': 0.0003446709047761473, 'hidden1': 448, 'hidden2': 192, 'dropout': 0.23003288188458515, 'batch_size': 32, 'weight_decay': 0.0009919437267373531}. Best is trial 9 with value: 0.7735500554118951.\n",
      "[I 2025-05-05 10:50:28,804] Trial 18 finished with value: 0.768037485215176 and parameters: {'lr': 0.0001150884496048179, 'hidden1': 320, 'hidden2': 128, 'dropout': 0.2546762981616674, 'batch_size': 32, 'weight_decay': 0.0001423835173285055}. Best is trial 9 with value: 0.7735500554118951.\n",
      "[I 2025-05-05 10:54:43,014] Trial 19 finished with value: 0.7654112631017943 and parameters: {'lr': 2.5748331961464415e-05, 'hidden1': 256, 'hidden2': 192, 'dropout': 0.33629661000438466, 'batch_size': 32, 'weight_decay': 3.487546304289031e-05}. Best is trial 9 with value: 0.7735500554118951.\n",
      "[I 2025-05-05 10:57:18,076] Trial 20 finished with value: 0.7565972713968748 and parameters: {'lr': 0.0005530859877276267, 'hidden1': 384, 'hidden2': 64, 'dropout': 0.435779472665819, 'batch_size': 32, 'weight_decay': 0.00010256060164996365}. Best is trial 9 with value: 0.7735500554118951.\n",
      "[I 2025-05-05 11:00:08,337] Trial 21 finished with value: 0.772135219786154 and parameters: {'lr': 0.0003499132725670012, 'hidden1': 384, 'hidden2': 192, 'dropout': 0.43550431275987184, 'batch_size': 32, 'weight_decay': 0.00017551657400563961}. Best is trial 9 with value: 0.7735500554118951.\n",
      "[I 2025-05-05 11:03:11,693] Trial 22 finished with value: 0.768851430108491 and parameters: {'lr': 0.00025723221887529184, 'hidden1': 448, 'hidden2': 192, 'dropout': 0.37960724861787176, 'batch_size': 32, 'weight_decay': 0.0004115117196130082}. Best is trial 9 with value: 0.7735500554118951.\n",
      "[I 2025-05-05 11:05:18,795] Trial 23 finished with value: 0.7645326790095917 and parameters: {'lr': 0.00023214344523143964, 'hidden1': 512, 'hidden2': 256, 'dropout': 0.4599293459934144, 'batch_size': 32, 'weight_decay': 0.00020240466782078331}. Best is trial 9 with value: 0.7735500554118951.\n",
      "[I 2025-05-05 11:06:57,657] Trial 24 finished with value: 0.7583168494875022 and parameters: {'lr': 0.00011907405088328488, 'hidden1': 384, 'hidden2': 192, 'dropout': 0.39719829709491083, 'batch_size': 32, 'weight_decay': 0.00014287666828262816}. Best is trial 9 with value: 0.7735500554118951.\n",
      "[I 2025-05-05 11:10:15,657] Trial 25 finished with value: 0.7674571060424531 and parameters: {'lr': 0.0004608810773464126, 'hidden1': 448, 'hidden2': 128, 'dropout': 0.4496610682410584, 'batch_size': 32, 'weight_decay': 6.893646516860928e-05}. Best is trial 9 with value: 0.7735500554118951.\n",
      "[I 2025-05-05 11:12:24,473] Trial 26 finished with value: 0.7607451158564289 and parameters: {'lr': 8.939149049086549e-05, 'hidden1': 320, 'hidden2': 192, 'dropout': 0.3611167596021011, 'batch_size': 32, 'weight_decay': 3.7268991770810716e-05}. Best is trial 9 with value: 0.7735500554118951.\n",
      "[I 2025-05-05 11:14:46,088] Trial 27 finished with value: 0.7624608114862103 and parameters: {'lr': 0.0002452628452479647, 'hidden1': 192, 'hidden2': 256, 'dropout': 0.4032832555716695, 'batch_size': 32, 'weight_decay': 0.00044563700964117564}. Best is trial 9 with value: 0.7735500554118951.\n",
      "[I 2025-05-05 11:15:35,856] Trial 28 finished with value: 0.7617281406690021 and parameters: {'lr': 0.0006799109684176957, 'hidden1': 448, 'hidden2': 128, 'dropout': 0.42059959783719786, 'batch_size': 128, 'weight_decay': 0.00020151295913500587}. Best is trial 9 with value: 0.7735500554118951.\n",
      "[I 2025-05-05 11:18:51,688] Trial 29 finished with value: 0.7643306234310586 and parameters: {'lr': 7.253254951225309e-05, 'hidden1': 512, 'hidden2': 128, 'dropout': 0.3160434553239832, 'batch_size': 64, 'weight_decay': 0.0009788726305526348}. Best is trial 9 with value: 0.7735500554118951.\n"
     ]
    }
   ],
   "source": [
    "# ========== OPTUNA OPTIMIZATION ==========\n",
    "def objective(trial):\n",
    "    params = {\n",
    "        'lr': trial.suggest_float('lr', 1e-5, 1e-3, log=True),\n",
    "        'hidden1': trial.suggest_int('hidden1', 128, 512, step=64),\n",
    "        'hidden2': trial.suggest_int('hidden2', 64, 256, step=64),\n",
    "        'dropout': trial.suggest_float('dropout', 0.2, 0.5),\n",
    "        'batch_size': trial.suggest_categorical('batch_size', [32, 64, 128]),\n",
    "        'weight_decay': trial.suggest_float('weight_decay', 1e-6, 1e-3, log=True)\n",
    "    }\n",
    "\n",
    "    # Temporary loaders with trial-specific batch size\n",
    "    train_loader = DataLoader(train_dataset, batch_size=params['batch_size'], shuffle=True)\n",
    "    val_loader = DataLoader(val_dataset, batch_size=params['batch_size'])\n",
    "    \n",
    "    device = torch.device('cuda' if torch.cuda.is_available() else 'cpu')\n",
    "    model = SentimentNet(300, params['hidden1'], params['hidden2'], params['dropout']).to(device)\n",
    "    optimizer = torch.optim.AdamW(model.parameters(), lr=params['lr'], weight_decay=params['weight_decay'])\n",
    "    criterion = nn.BCEWithLogitsLoss()\n",
    "    \n",
    "    best_f1 = 0\n",
    "    patience = 5\n",
    "    for epoch in range(100):\n",
    "        # Training\n",
    "        model.train()\n",
    "        for x, y in train_loader:\n",
    "            x, y = x.to(device), y.to(device).unsqueeze(1)\n",
    "            optimizer.zero_grad()\n",
    "            outputs = model(x)\n",
    "            loss = criterion(outputs, y)\n",
    "            loss.backward()\n",
    "            nn.utils.clip_grad_norm_(model.parameters(), 1.0)\n",
    "            optimizer.step()\n",
    "        \n",
    "        # Validation\n",
    "        model.eval()\n",
    "        all_preds, all_labels = [], []\n",
    "        with torch.no_grad():\n",
    "            for x, y in val_loader:\n",
    "                x, y = x.to(device), y.to(device)\n",
    "                outputs = model(x)\n",
    "                preds = (torch.sigmoid(outputs) > 0.5).long().flatten()\n",
    "                all_preds.extend(preds.cpu().numpy())\n",
    "                all_labels.extend(y.long().cpu().numpy())\n",
    "        \n",
    "        val_f1 = f1_score(all_labels, all_preds, zero_division=0)\n",
    "        trial.report(val_f1, epoch)\n",
    "        \n",
    "        if val_f1 > best_f1:\n",
    "            best_f1 = val_f1\n",
    "            patience_counter = 0\n",
    "        else:\n",
    "            patience_counter += 1\n",
    "            if patience_counter >= patience:\n",
    "                break\n",
    "    \n",
    "    return best_f1\n",
    "\n",
    "# Run Optuna study\n",
    "study = optuna.create_study(direction='maximize', sampler=optuna.samplers.TPESampler())\n",
    "study.optimize(objective, n_trials=30, timeout=10800)  # 3 hours"
   ]
  },
  {
   "cell_type": "code",
   "execution_count": 10,
   "id": "a295f842",
   "metadata": {
    "execution": {
     "iopub.execute_input": "2025-05-05T11:18:51.704719Z",
     "iopub.status.busy": "2025-05-05T11:18:51.704271Z",
     "iopub.status.idle": "2025-05-05T11:25:43.128150Z",
     "shell.execute_reply": "2025-05-05T11:25:43.127260Z"
    },
    "papermill": {
     "duration": 411.429079,
     "end_time": "2025-05-05T11:25:43.129311",
     "exception": false,
     "start_time": "2025-05-05T11:18:51.700232",
     "status": "completed"
    },
    "tags": []
   },
   "outputs": [
    {
     "name": "stdout",
     "output_type": "stream",
     "text": [
      "Epoch 1: Val F1 = 0.7246\n",
      "Epoch 2: Val F1 = 0.7304\n",
      "Epoch 3: Val F1 = 0.7619\n",
      "Epoch 4: Val F1 = 0.7656\n",
      "Epoch 5: Val F1 = 0.7550\n",
      "Epoch 6: Val F1 = 0.7525\n",
      "Epoch 7: Val F1 = 0.7606\n",
      "Epoch 8: Val F1 = 0.7609\n",
      "Epoch 9: Val F1 = 0.7559\n",
      "Epoch 10: Val F1 = 0.7591\n",
      "Epoch 11: Val F1 = 0.7493\n",
      "Epoch 12: Val F1 = 0.7405\n",
      "Epoch 13: Val F1 = 0.7596\n",
      "Epoch 14: Val F1 = 0.7667\n",
      "Epoch 15: Val F1 = 0.7446\n",
      "Epoch 16: Val F1 = 0.7658\n",
      "Epoch 17: Val F1 = 0.7650\n",
      "Epoch 18: Val F1 = 0.7630\n",
      "Epoch 19: Val F1 = 0.7696\n",
      "Epoch 20: Val F1 = 0.7458\n",
      "Epoch 21: Val F1 = 0.7633\n",
      "Epoch 22: Val F1 = 0.7418\n",
      "Epoch 23: Val F1 = 0.7612\n",
      "Epoch 24: Val F1 = 0.7603\n",
      "Epoch 25: Val F1 = 0.7618\n",
      "Epoch 26: Val F1 = 0.7501\n",
      "Epoch 27: Val F1 = 0.7619\n",
      "Epoch 28: Val F1 = 0.7501\n",
      "Epoch 29: Val F1 = 0.7446\n",
      "Early stopping at epoch 29\n"
     ]
    }
   ],
   "source": [
    "# ========== FINAL TRAINING ==========\n",
    "best_params = study.best_params\n",
    "device = torch.device('cuda' if torch.cuda.is_available() else 'cpu')\n",
    "\n",
    "# Reinitialize with best parameters\n",
    "final_model = SentimentNet(\n",
    "    input_dim=300,\n",
    "    hidden1=best_params['hidden1'],\n",
    "    hidden2=best_params['hidden2'],\n",
    "    dropout=best_params['dropout']\n",
    ").to(device)\n",
    "\n",
    "optimizer = torch.optim.AdamW(\n",
    "    final_model.parameters(),\n",
    "    lr=best_params['lr'],\n",
    "    weight_decay=best_params['weight_decay']\n",
    ")\n",
    "criterion = nn.BCEWithLogitsLoss()\n",
    "\n",
    "# FINAL DATA LOADERS (using best batch size for train/val)\n",
    "train_loader = DataLoader(train_dataset, batch_size=best_params['batch_size'], shuffle=True)\n",
    "val_loader = DataLoader(val_dataset, batch_size=best_params['batch_size'])\n",
    "# test_loader remains with DEFAULT_BATCH_SIZE (defined earlier)\n",
    "\n",
    "# Training loop\n",
    "best_f1 = 0\n",
    "patience = 10\n",
    "for epoch in range(200):\n",
    "    final_model.train()\n",
    "    for x, y in train_loader:\n",
    "        x, y = x.to(device), y.to(device).unsqueeze(1)\n",
    "        optimizer.zero_grad()\n",
    "        outputs = final_model(x)\n",
    "        loss = criterion(outputs, y)\n",
    "        loss.backward()\n",
    "        nn.utils.clip_grad_norm_(final_model.parameters(), 1.0)\n",
    "        optimizer.step()\n",
    "    \n",
    "    # Validation\n",
    "    final_model.eval()\n",
    "    all_preds, all_labels = [], []\n",
    "    with torch.no_grad():\n",
    "        for x, y in val_loader:\n",
    "            x, y = x.to(device), y.to(device)\n",
    "            outputs = final_model(x)\n",
    "            preds = (torch.sigmoid(outputs) > 0.5).long().flatten()\n",
    "            all_preds.extend(preds.cpu().numpy())\n",
    "            all_labels.extend(y.long().cpu().numpy())\n",
    "    \n",
    "    val_f1 = f1_score(all_labels, all_preds, zero_division=0)\n",
    "    print(f\"Epoch {epoch+1}: Val F1 = {val_f1:.4f}\")\n",
    "    \n",
    "    if val_f1 > best_f1:\n",
    "        best_f1 = val_f1\n",
    "        torch.save(final_model.state_dict(), 'best_model.pth')\n",
    "        patience_counter = 0\n",
    "    else:\n",
    "        patience_counter += 1\n",
    "        if patience_counter >= patience:\n",
    "            print(f\"Early stopping at epoch {epoch+1}\")\n",
    "            break"
   ]
  },
  {
   "cell_type": "code",
   "execution_count": 11,
   "id": "7e166420",
   "metadata": {
    "execution": {
     "iopub.execute_input": "2025-05-05T11:25:43.139823Z",
     "iopub.status.busy": "2025-05-05T11:25:43.139223Z",
     "iopub.status.idle": "2025-05-05T11:25:45.345212Z",
     "shell.execute_reply": "2025-05-05T11:25:45.344465Z"
    },
    "papermill": {
     "duration": 2.212227,
     "end_time": "2025-05-05T11:25:45.346318",
     "exception": false,
     "start_time": "2025-05-05T11:25:43.134091",
     "status": "completed"
    },
    "tags": []
   },
   "outputs": [
    {
     "name": "stderr",
     "output_type": "stream",
     "text": [
      "/tmp/ipykernel_19/3944221902.py:2: FutureWarning: You are using `torch.load` with `weights_only=False` (the current default value), which uses the default pickle module implicitly. It is possible to construct malicious pickle data which will execute arbitrary code during unpickling (See https://github.com/pytorch/pytorch/blob/main/SECURITY.md#untrusted-models for more details). In a future release, the default value for `weights_only` will be flipped to `True`. This limits the functions that could be executed during unpickling. Arbitrary objects will no longer be allowed to be loaded via this mode unless they are explicitly allowlisted by the user via `torch.serialization.add_safe_globals`. We recommend you start setting `weights_only=True` for any use case where you don't have full control of the loaded file. Please open an issue on GitHub for any issues related to this experimental feature.\n",
      "  final_model.load_state_dict(torch.load('best_model.pth'))\n"
     ]
    },
    {
     "name": "stdout",
     "output_type": "stream",
     "text": [
      "\n",
      "=== Validation Metrics ===\n",
      "Accuracy: 0.7584\n",
      "Precision: 0.7356\n",
      "Recall: 0.8069\n",
      "F1 Score: 0.7696\n",
      "\n",
      "=== Submission Created ===\n",
      "Samples: 21199\n",
      "Class Distribution:\n",
      "Label\n",
      "1    11763\n",
      "0     9436\n",
      "Name: count, dtype: int64\n"
     ]
    }
   ],
   "source": [
    "# ========== FINAL EVALUATION & SUBMISSION ==========\n",
    "final_model.load_state_dict(torch.load('best_model.pth'))\n",
    "final_model.eval()\n",
    "\n",
    "# 1. Validation Evaluation\n",
    "val_preds, val_labels = [], []\n",
    "with torch.no_grad():\n",
    "    for x, y in val_loader:\n",
    "        x, y = x.to(device), y.to(device)\n",
    "        outputs = final_model(x)\n",
    "        preds = (torch.sigmoid(outputs) > 0.5).long().flatten()\n",
    "        val_preds.extend(preds.cpu().numpy())\n",
    "        val_labels.extend(y.cpu().numpy())\n",
    "\n",
    "print(\"\\n=== Validation Metrics ===\")\n",
    "print(f\"Accuracy: {accuracy_score(val_labels, val_preds):.4f}\")\n",
    "print(f\"Precision: {precision_score(val_labels, val_preds):.4f}\") \n",
    "print(f\"Recall: {recall_score(val_labels, val_preds):.4f}\")\n",
    "print(f\"F1 Score: {f1_score(val_labels, val_preds):.4f}\")\n",
    "\n",
    "# 2. Test Predictions (using pre-defined test_loader)\n",
    "test_preds = []\n",
    "with torch.no_grad():\n",
    "    for x in test_loader:\n",
    "        x = x.to(device)\n",
    "        outputs = final_model(x)\n",
    "        preds = (torch.sigmoid(outputs) > 0.5).long().flatten()\n",
    "        test_preds.extend(preds.cpu().numpy())\n",
    "\n",
    "# Create submission\n",
    "submission_df = pd.DataFrame({\n",
    "    \"ID\": test_df[\"ID\"].values,  # Ensures proper alignment\n",
    "    \"Label\": test_preds\n",
    "})\n",
    "submission_df.to_csv(\"submission.csv\", index=False)\n",
    "print(\"\\n=== Submission Created ===\")\n",
    "print(f\"Samples: {len(test_preds)}\")\n",
    "print(f\"Class Distribution:\\n{submission_df['Label'].value_counts()}\")\n",
    "\n",
    "# Save final model\n",
    "torch.save(final_model.state_dict(), 'sentiment_model.pth')"
   ]
  }
 ],
 "metadata": {
  "kaggle": {
   "accelerator": "gpu",
   "dataSources": [
    {
     "databundleVersionId": 11446837,
     "isSourceIdPinned": false,
     "sourceId": 96317,
     "sourceType": "competition"
    },
    {
     "datasetId": 1595713,
     "sourceId": 2624724,
     "sourceType": "datasetVersion"
    }
   ],
   "dockerImageVersionId": 31012,
   "isGpuEnabled": true,
   "isInternetEnabled": true,
   "language": "python",
   "sourceType": "notebook"
  },
  "kernelspec": {
   "display_name": "Python 3",
   "language": "python",
   "name": "python3"
  },
  "language_info": {
   "codemirror_mode": {
    "name": "ipython",
    "version": 3
   },
   "file_extension": ".py",
   "mimetype": "text/x-python",
   "name": "python",
   "nbconvert_exporter": "python",
   "pygments_lexer": "ipython3",
   "version": "3.11.11"
  },
  "papermill": {
   "default_parameters": {},
   "duration": 5656.416047,
   "end_time": "2025-05-05T11:25:48.791640",
   "environment_variables": {},
   "exception": null,
   "input_path": "__notebook__.ipynb",
   "output_path": "__notebook__.ipynb",
   "parameters": {},
   "start_time": "2025-05-05T09:51:32.375593",
   "version": "2.6.0"
  }
 },
 "nbformat": 4,
 "nbformat_minor": 5
}
